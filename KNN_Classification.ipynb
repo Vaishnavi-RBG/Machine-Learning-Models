{
  "nbformat": 4,
  "nbformat_minor": 0,
  "metadata": {
    "colab": {
      "provenance": [],
      "authorship_tag": "ABX9TyMjv1fUzKsylBYmhaKrPUwE",
      "include_colab_link": true
    },
    "kernelspec": {
      "name": "python3",
      "display_name": "Python 3"
    },
    "language_info": {
      "name": "python"
    }
  },
  "cells": [
    {
      "cell_type": "markdown",
      "metadata": {
        "id": "view-in-github",
        "colab_type": "text"
      },
      "source": [
        "<a href=\"https://colab.research.google.com/github/Vishvaish/Machine-Learning-Models/blob/main/KNN_Classification.ipynb\" target=\"_parent\"><img src=\"https://colab.research.google.com/assets/colab-badge.svg\" alt=\"Open In Colab\"/></a>"
      ]
    },
    {
      "cell_type": "markdown",
      "source": [
        "#KNN classification\n",
        "\n",
        "K-nearest neighbors (KNN) classification is a non-parametric algorithm used for supervised learning. In KNN, the class of a new instance is determined by the majority vote of its k nearest neighbors in the feature space. The distance between instances is typically measured using Euclidean distance. KNN is a simple and effective algorithm that can be used for classification tasks, but it can be computationally expensive for large datasets and can suffer from the curse of dimensionality."
      ],
      "metadata": {
        "id": "wBgKYNIg2C_W"
      }
    },
    {
      "cell_type": "markdown",
      "source": [
        "![KNN.png](data:image/png;base64,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)"
      ],
      "metadata": {
        "id": "XlFTyHy_3jIn"
      }
    },
    {
      "cell_type": "markdown",
      "source": [
        "#Intention:\n",
        "\n",
        "The intention of the code is to implement the k-nearest neighbors (KNN) classification algorithm from scratch using Python, without relying on machine learning packages. KNN is a non-parametric algorithm that classifies new instances based on the majority vote of their nearest neighbors in the feature space. The code aims to demonstrate how to implement KNN, calculate the F1 score for evaluation, and create a line plot to visualize the actual and predicted values.\n",
        "\n",
        "# The code strives to achieve the following goals:\n",
        "\n",
        "1. Define the Euclidean distance function to measure the similarity between feature vectors.\n",
        "\n",
        "2. Implement the KNN classifier, which iterates through the test instances and finds the k nearest neighbors in the training data, determines their majority class label, and assigns it as the predicted label for the test instance.\n",
        "\n",
        "3. Load a dataset from a CSV file and split it into features and target variables.\n",
        "\n",
        "4. Split the dataset into training and test sets.\n",
        "Define the value of k, which determines the number of neighbors to consider.\n",
        "Train the KNN classifier on the training data and predict the labels for the test instances.\n",
        "\n",
        "5. Calculate the F1 score to evaluate the performance of the model. The F1 score considers both precision and recall, providing a balanced assessment of the model's accuracy.\n",
        "\n",
        "6. Create dataframes to store the actual and predicted values.\n"
      ],
      "metadata": {
        "id": "BZXTEwFt1PJP"
      }
    },
    {
      "cell_type": "code",
      "source": [
        "import pandas as pd\n",
        "data = pd.read_csv('/content/gender_classification_v7.csv')\n",
        "data.head()"
      ],
      "metadata": {
        "colab": {
          "base_uri": "https://localhost:8080/",
          "height": 206
        },
        "id": "VFFdPdo8zJOk",
        "outputId": "97feaf29-ce1e-478a-be40-af1ba21a6c69"
      },
      "execution_count": null,
      "outputs": [
        {
          "output_type": "execute_result",
          "data": {
            "text/plain": [
              "   long_hair  forehead_width_cm  forehead_height_cm  nose_wide  nose_long  \\\n",
              "0          1               11.8                 6.1          1          0   \n",
              "1          0               14.0                 5.4          0          0   \n",
              "2          0               11.8                 6.3          1          1   \n",
              "3          0               14.4                 6.1          0          1   \n",
              "4          1               13.5                 5.9          0          0   \n",
              "\n",
              "   lips_thin  distance_nose_to_lip_long  gender  \n",
              "0          1                          1    Male  \n",
              "1          1                          0  Female  \n",
              "2          1                          1    Male  \n",
              "3          1                          1    Male  \n",
              "4          0                          0  Female  "
            ],
            "text/html": [
              "\n",
              "  <div id=\"df-3f132948-6886-4186-8057-2d5d9ace2cee\">\n",
              "    <div class=\"colab-df-container\">\n",
              "      <div>\n",
              "<style scoped>\n",
              "    .dataframe tbody tr th:only-of-type {\n",
              "        vertical-align: middle;\n",
              "    }\n",
              "\n",
              "    .dataframe tbody tr th {\n",
              "        vertical-align: top;\n",
              "    }\n",
              "\n",
              "    .dataframe thead th {\n",
              "        text-align: right;\n",
              "    }\n",
              "</style>\n",
              "<table border=\"1\" class=\"dataframe\">\n",
              "  <thead>\n",
              "    <tr style=\"text-align: right;\">\n",
              "      <th></th>\n",
              "      <th>long_hair</th>\n",
              "      <th>forehead_width_cm</th>\n",
              "      <th>forehead_height_cm</th>\n",
              "      <th>nose_wide</th>\n",
              "      <th>nose_long</th>\n",
              "      <th>lips_thin</th>\n",
              "      <th>distance_nose_to_lip_long</th>\n",
              "      <th>gender</th>\n",
              "    </tr>\n",
              "  </thead>\n",
              "  <tbody>\n",
              "    <tr>\n",
              "      <th>0</th>\n",
              "      <td>1</td>\n",
              "      <td>11.8</td>\n",
              "      <td>6.1</td>\n",
              "      <td>1</td>\n",
              "      <td>0</td>\n",
              "      <td>1</td>\n",
              "      <td>1</td>\n",
              "      <td>Male</td>\n",
              "    </tr>\n",
              "    <tr>\n",
              "      <th>1</th>\n",
              "      <td>0</td>\n",
              "      <td>14.0</td>\n",
              "      <td>5.4</td>\n",
              "      <td>0</td>\n",
              "      <td>0</td>\n",
              "      <td>1</td>\n",
              "      <td>0</td>\n",
              "      <td>Female</td>\n",
              "    </tr>\n",
              "    <tr>\n",
              "      <th>2</th>\n",
              "      <td>0</td>\n",
              "      <td>11.8</td>\n",
              "      <td>6.3</td>\n",
              "      <td>1</td>\n",
              "      <td>1</td>\n",
              "      <td>1</td>\n",
              "      <td>1</td>\n",
              "      <td>Male</td>\n",
              "    </tr>\n",
              "    <tr>\n",
              "      <th>3</th>\n",
              "      <td>0</td>\n",
              "      <td>14.4</td>\n",
              "      <td>6.1</td>\n",
              "      <td>0</td>\n",
              "      <td>1</td>\n",
              "      <td>1</td>\n",
              "      <td>1</td>\n",
              "      <td>Male</td>\n",
              "    </tr>\n",
              "    <tr>\n",
              "      <th>4</th>\n",
              "      <td>1</td>\n",
              "      <td>13.5</td>\n",
              "      <td>5.9</td>\n",
              "      <td>0</td>\n",
              "      <td>0</td>\n",
              "      <td>0</td>\n",
              "      <td>0</td>\n",
              "      <td>Female</td>\n",
              "    </tr>\n",
              "  </tbody>\n",
              "</table>\n",
              "</div>\n",
              "      <button class=\"colab-df-convert\" onclick=\"convertToInteractive('df-3f132948-6886-4186-8057-2d5d9ace2cee')\"\n",
              "              title=\"Convert this dataframe to an interactive table.\"\n",
              "              style=\"display:none;\">\n",
              "        \n",
              "  <svg xmlns=\"http://www.w3.org/2000/svg\" height=\"24px\"viewBox=\"0 0 24 24\"\n",
              "       width=\"24px\">\n",
              "    <path d=\"M0 0h24v24H0V0z\" fill=\"none\"/>\n",
              "    <path d=\"M18.56 5.44l.94 2.06.94-2.06 2.06-.94-2.06-.94-.94-2.06-.94 2.06-2.06.94zm-11 1L8.5 8.5l.94-2.06 2.06-.94-2.06-.94L8.5 2.5l-.94 2.06-2.06.94zm10 10l.94 2.06.94-2.06 2.06-.94-2.06-.94-.94-2.06-.94 2.06-2.06.94z\"/><path d=\"M17.41 7.96l-1.37-1.37c-.4-.4-.92-.59-1.43-.59-.52 0-1.04.2-1.43.59L10.3 9.45l-7.72 7.72c-.78.78-.78 2.05 0 2.83L4 21.41c.39.39.9.59 1.41.59.51 0 1.02-.2 1.41-.59l7.78-7.78 2.81-2.81c.8-.78.8-2.07 0-2.86zM5.41 20L4 18.59l7.72-7.72 1.47 1.35L5.41 20z\"/>\n",
              "  </svg>\n",
              "      </button>\n",
              "      \n",
              "  <style>\n",
              "    .colab-df-container {\n",
              "      display:flex;\n",
              "      flex-wrap:wrap;\n",
              "      gap: 12px;\n",
              "    }\n",
              "\n",
              "    .colab-df-convert {\n",
              "      background-color: #E8F0FE;\n",
              "      border: none;\n",
              "      border-radius: 50%;\n",
              "      cursor: pointer;\n",
              "      display: none;\n",
              "      fill: #1967D2;\n",
              "      height: 32px;\n",
              "      padding: 0 0 0 0;\n",
              "      width: 32px;\n",
              "    }\n",
              "\n",
              "    .colab-df-convert:hover {\n",
              "      background-color: #E2EBFA;\n",
              "      box-shadow: 0px 1px 2px rgba(60, 64, 67, 0.3), 0px 1px 3px 1px rgba(60, 64, 67, 0.15);\n",
              "      fill: #174EA6;\n",
              "    }\n",
              "\n",
              "    [theme=dark] .colab-df-convert {\n",
              "      background-color: #3B4455;\n",
              "      fill: #D2E3FC;\n",
              "    }\n",
              "\n",
              "    [theme=dark] .colab-df-convert:hover {\n",
              "      background-color: #434B5C;\n",
              "      box-shadow: 0px 1px 3px 1px rgba(0, 0, 0, 0.15);\n",
              "      filter: drop-shadow(0px 1px 2px rgba(0, 0, 0, 0.3));\n",
              "      fill: #FFFFFF;\n",
              "    }\n",
              "  </style>\n",
              "\n",
              "      <script>\n",
              "        const buttonEl =\n",
              "          document.querySelector('#df-3f132948-6886-4186-8057-2d5d9ace2cee button.colab-df-convert');\n",
              "        buttonEl.style.display =\n",
              "          google.colab.kernel.accessAllowed ? 'block' : 'none';\n",
              "\n",
              "        async function convertToInteractive(key) {\n",
              "          const element = document.querySelector('#df-3f132948-6886-4186-8057-2d5d9ace2cee');\n",
              "          const dataTable =\n",
              "            await google.colab.kernel.invokeFunction('convertToInteractive',\n",
              "                                                     [key], {});\n",
              "          if (!dataTable) return;\n",
              "\n",
              "          const docLinkHtml = 'Like what you see? Visit the ' +\n",
              "            '<a target=\"_blank\" href=https://colab.research.google.com/notebooks/data_table.ipynb>data table notebook</a>'\n",
              "            + ' to learn more about interactive tables.';\n",
              "          element.innerHTML = '';\n",
              "          dataTable['output_type'] = 'display_data';\n",
              "          await google.colab.output.renderOutput(dataTable, element);\n",
              "          const docLink = document.createElement('div');\n",
              "          docLink.innerHTML = docLinkHtml;\n",
              "          element.appendChild(docLink);\n",
              "        }\n",
              "      </script>\n",
              "    </div>\n",
              "  </div>\n",
              "  "
            ]
          },
          "metadata": {},
          "execution_count": 26
        }
      ]
    },
    {
      "cell_type": "code",
      "source": [
        "data['gender'] = data['gender'].map({'Male':0,'Female':1})"
      ],
      "metadata": {
        "id": "R4vKw_vS2Wlm"
      },
      "execution_count": null,
      "outputs": []
    },
    {
      "cell_type": "code",
      "source": [
        "import numpy as np\n",
        "import pandas as pd\n",
        "import matplotlib.pyplot as plt\n",
        "\n",
        "# Define the Euclidean distance function\n",
        "def euclidean_distance(x1, x2):\n",
        "    return np.sqrt(np.sum((x1 - x2)**2))\n",
        "\n",
        "# Define the KNN classifier\n",
        "def knn_classifier(X_train, y_train, X_test, k):\n",
        "    y_pred = []\n",
        "    for test_point in X_test:\n",
        "        distances = [euclidean_distance(test_point, train_point) for train_point in X_train]\n",
        "        sorted_indices = np.argsort(distances)\n",
        "        k_nearest_labels = [y_train[idx] for idx in sorted_indices[:k]]\n",
        "        most_common = np.bincount(k_nearest_labels).argmax()\n",
        "        y_pred.append(most_common)\n",
        "    return np.array(y_pred)\n",
        "\n",
        "# Split dataset into features and target\n",
        "X = data.iloc[:, :-1].values\n",
        "y = data.iloc[:, -1].values\n",
        "\n",
        "# Split the data into train and test sets\n",
        "split_idx = int(0.8 * len(data))\n",
        "X_train = X[:split_idx]\n",
        "y_train = y[:split_idx]\n",
        "X_test = X[split_idx:]\n",
        "y_test = y[split_idx:]\n",
        "\n",
        "# Define the value of k\n",
        "k = 5\n",
        "\n",
        "# Train and predict using the KNN classifier\n",
        "y_pred = knn_classifier(X_train, y_train, X_test, k)\n",
        "\n",
        "# Compute F1 score\n",
        "tp = np.sum(np.logical_and(y_pred == 1, y_test == 1))\n",
        "fp = np.sum(np.logical_and(y_pred == 1, y_test == 0))\n",
        "fn = np.sum(np.logical_and(y_pred == 0, y_test == 1))\n",
        "precision = tp / (tp + fp)\n",
        "recall = tp / (tp + fn)\n",
        "f1_score = 2 * precision * recall / (precision + recall)\n",
        "print('F1 score:', f1_score)\n",
        "\n",
        "# Create actual and predicted dataframes\n",
        "df_actual = pd.DataFrame({'Actual': y_test})\n",
        "df_predicted = pd.DataFrame({'Predicted': y_pred})\n",
        "\n",
        "# Create dataframe for actual and predicted values\n",
        "df_result = pd.concat([df_actual, df_predicted], axis=1)\n",
        "print(df_result.head())"
      ],
      "metadata": {
        "colab": {
          "base_uri": "https://localhost:8080/"
        },
        "id": "7RcZraaywD54",
        "outputId": "21ae907c-46ce-4266-d1dc-67c2a1f66037"
      },
      "execution_count": null,
      "outputs": [
        {
          "output_type": "stream",
          "name": "stdout",
          "text": [
            "F1 score: 0.974609375\n",
            "   Actual  Predicted\n",
            "0       0          0\n",
            "1       0          0\n",
            "2       0          0\n",
            "3       1          1\n",
            "4       0          0\n"
          ]
        }
      ]
    },
    {
      "cell_type": "markdown",
      "source": [
        "#Inference:\n",
        "\n",
        "The inference drawn from the code revolves around understanding the performance of the KNN model and gaining insights into its ability to accurately classify instances.\n",
        "\n",
        "#The code accomplishes the following steps to derive meaningful inferences:\n",
        "\n",
        "1. Trains the KNN model using the training data and applies it to predict the labels for the test instances.\n",
        "\n",
        "2. Computes the F1 score to evaluate the model's performance. A high F1 score indicates that the model has achieved a good balance between precision and recall, implying accurate classification.\n",
        "\n",
        "3. Creates actual and predicted dataframes to store the true labels and predicted labels, respectively. These dataframes allow for further analysis and comparison.\n",
        "\n",
        "4. A high F1 score indicate a well-performing model. "
      ],
      "metadata": {
        "id": "7LzTZBrx0b_m"
      }
    },
    {
      "cell_type": "markdown",
      "source": [
        "# Pros of KNN Classification:\n",
        "\n",
        "1. Simplicity: KNN is easy to understand and implement, making it a good choice for beginners or for quick prototyping.\n",
        "\n",
        "2. No training phase: KNN is a lazy learner, meaning it doesn't require an explicit training phase. The model directly uses the training instances during the prediction phase.\n",
        "\n",
        "3. Non-parametric: KNN makes no assumptions about the underlying data distribution, making it suitable for both linear and non-linear decision boundaries.\n",
        "\n",
        "4. Flexibility: KNN can handle multi-class classification problems and can be applied to regression tasks by averaging the values of the k nearest neighbors.\n",
        "\n",
        "5. Interpretable: KNN provides interpretability as the prediction is based on the actual instances in the feature space.\n",
        "\n",
        "\n",
        "\n",
        "---\n",
        "\n",
        "\n",
        "# Cons of KNN classification:\n",
        "\n",
        "1. Computational complexity: The prediction phase of KNN can be computationally expensive, especially for large datasets, as it requires calculating distances between the new instance and all the training instances.\n",
        "\n",
        "2. Memory requirements: KNN stores the entire training dataset in memory, which can be memory-intensive for datasets with a large number of instances or high-dimensional feature spaces.\n",
        "\n",
        "3. Sensitivity to feature scaling: KNN is sensitive to the scale and range of features. It is essential to normalize or standardize the features to ensure accurate results.\n",
        "\n",
        "4. Curse of dimensionality: KNN performance tends to degrade as the number of features increases. In high-dimensional spaces, the density of instances becomes sparse, and the nearest neighbors may not truly represent the local structure.\n",
        "\n",
        "5. Optimal k selection: The choice of the parameter k (number of neighbors) is critical in KNN. Selecting an appropriate value of k can be challenging and may require experimentation or tuning.\n"
      ],
      "metadata": {
        "id": "TBHTDZO440WW"
      }
    }
  ]
}